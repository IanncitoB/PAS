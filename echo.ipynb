{
 "cells": [
  {
   "cell_type": "code",
   "execution_count": null,
   "metadata": {},
   "outputs": [],
   "source": [
    "import numpy as np\n",
    "import matplotlib.pyplot as plt\n",
    "from scipy.signal import hilbert  # para la envolvente\n",
    "import pywt\n",
    "from scipy.linalg import svd"
   ]
  },
  {
   "cell_type": "markdown",
   "metadata": {},
   "source": [
    "Parámetros sacados del paper"
   ]
  },
  {
   "cell_type": "code",
   "execution_count": null,
   "metadata": {},
   "outputs": [],
   "source": [
    "# Parameters\n",
    "fs = 1e9  # Sampling frequency: 1 GHz\n",
    "duration = 2e-6  # 2 microseconds\n",
    "t = np.linspace(0, duration, int(fs * duration))\n",
    "\n",
    "# Echo signal parameters (matching paper values)\n",
    "echo_params = [\n",
    "    {'A': 10, 'alpha': 300e12, 'f': 100e6, 'tau': 0.4e-6},\n",
    "    {'A': 8, 'alpha': 300e12, 'f': 100e6, 'tau': 0.6e-6}\n",
    "]"
   ]
  },
  {
   "cell_type": "code",
   "execution_count": null,
   "metadata": {},
   "outputs": [],
   "source": [
    "def generate_echo(t, A, alpha, f, tau):\n",
    "    return A * np.exp(-alpha * (t - tau)**2) * np.cos(2 * np.pi * f * (t - tau))\n",
    "\n",
    "# Add noise with desired SNR\n",
    "def add_noise(signal, snr_db):\n",
    "    signal_power = np.mean(signal**2)\n",
    "    snr_linear = 10**(snr_db / 10)\n",
    "    noise_power = signal_power / snr_linear\n",
    "    noise = np.random.normal(0, np.sqrt(noise_power), size=signal.shape)\n",
    "    return signal + noise\n"
   ]
  },
  {
   "cell_type": "code",
   "execution_count": null,
   "metadata": {},
   "outputs": [],
   "source": [
    "def wavelet_soft_threshold_denoise(signal, wavelet='db4', level=None, mode='soft', sigma=None):\n",
    "    \"\"\"\n",
    "    Denoise a 1D signal using wavelet soft thresholding (WST).\n",
    "\n",
    "    Parameters:\n",
    "    - signal: 1D numpy array, noisy input signal.\n",
    "    - wavelet: string, wavelet name (e.g., 'db4').\n",
    "    - level: int, decomposition level. If None, uses max level.\n",
    "    - mode: 'soft' or 'hard' thresholding.\n",
    "    - sigma: float, estimated noise standard deviation. If None, estimated from median absolute deviation.\n",
    "\n",
    "    Returns:\n",
    "    - denoised: 1D numpy array, denoised signal.\n",
    "    \"\"\"\n",
    "    # Decompose\n",
    "    coeffs = pywt.wavedec(signal, wavelet=wavelet, level=level)\n",
    "\n",
    "    # Estimate noise sigma from detail coefficients at highest level\n",
    "    if sigma is None:\n",
    "        detail_coeffs = coeffs[-1]\n",
    "        sigma = np.median(np.abs(detail_coeffs)) / 0.6745\n",
    "\n",
    "    # Universal threshold\n",
    "    uthresh = sigma * np.sqrt(2 * np.log(len(signal)))\n",
    "\n",
    "    # Threshold detail coefficients\n",
    "    denoised_coeffs = [coeffs[0]]  # approximation unchanged\n",
    "    for c in coeffs[1:]:\n",
    "        denoised_coeffs.append(pywt.threshold(c, uthresh, mode=mode))\n",
    "\n",
    "    # Reconstruct signal\n",
    "    denoised = pywt.waverec(denoised_coeffs, wavelet=wavelet)\n",
    "    # Trim to original length\n",
    "    return denoised[: signal.shape[0]]\n"
   ]
  },
  {
   "cell_type": "code",
   "execution_count": null,
   "metadata": {},
   "outputs": [],
   "source": [
    "def gst_svd_denoise(signal, fs, a=1.0, b=1.0, energy_thresh=0.8):\n",
    "    \"\"\"\n",
    "    Denoise a 1D signal using Generalized S-transform (GST) + SVD method.\n",
    "\n",
    "    Parameters:\n",
    "    - signal: 1D numpy array, noisy input signal.\n",
    "    - fs: float, sampling frequency (Hz).\n",
    "    - a, b: floats, Gaussian window parameters for GST.\n",
    "    - energy_thresh: float in (0,1), cumulative energy threshold for singular values.\n",
    "\n",
    "    Returns:\n",
    "    - denoised: 1D numpy array, denoised signal.\n",
    "    \"\"\"\n",
    "    # print timming times for each step\n",
    "\n",
    "    import time\n",
    "    start_time = time.time()\n",
    "\n",
    "    N = len(signal)\n",
    "    t = np.arange(N) / fs\n",
    "    freqs = np.fft.fftfreq(N, d=1/fs)\n",
    "    Xf = np.fft.fft(signal)\n",
    "\n",
    "    print(f\"FFT computed in {time.time() - start_time:.4f} seconds\")\n",
    "    start_time = time.time()\n",
    "\n",
    "    # Compute GST matrix S (complex)\n",
    "    S = np.zeros((N, N), dtype=complex)\n",
    "    for p, fp in enumerate(freqs):\n",
    "        window = np.exp(-2 * (np.pi**2) * (a * t)**2 * (b * fp)**2)\n",
    "        S[p, :] = np.fft.ifft(Xf * window * np.exp(2j * np.pi * fp * t))\n",
    "\n",
    "    print(f\"GST matrix computed in {time.time() - start_time:.4f} seconds\")\n",
    "    start_time = time.time()\n",
    "\n",
    "    # SVD on S\n",
    "    U, s_vals, Vh = svd(S, full_matrices=False)\n",
    "    # Energy-based threshold on singular values\n",
    "    energy = np.cumsum(s_vals**2) / np.sum(s_vals**2)\n",
    "    k = np.searchsorted(energy, energy_thresh) + 1\n",
    "    s_vals[k:] = 0\n",
    "\n",
    "    print(f\"SVD computed in {time.time() - start_time:.4f} seconds\")\n",
    "    start_time = time.time()\n",
    "\n",
    "    # Reconstruct denoised S and inverse transform\n",
    "    S_denoised = U @ np.diag(s_vals) @ Vh\n",
    "    denoised = np.real(np.mean(S_denoised, axis=0))\n",
    "\n",
    "    print(f\"Denoised signal reconstructed in {time.time() - start_time:.4f} seconds\")\n",
    "\n",
    "    start_time = time.time()\n",
    "\n",
    "    # Ensure output has same amplitude as input\n",
    "    denoised *= np.linalg.norm(signal) / np.linalg.norm(denoised)\n",
    "\n",
    "    print(f\"Amplitude normalization completed in {time.time() - start_time:.4f} seconds\")\n",
    "    return denoised"
   ]
  },
  {
   "cell_type": "code",
   "execution_count": null,
   "metadata": {},
   "outputs": [],
   "source": [
    "clean_signal = sum(generate_echo(t, **p) for p in echo_params)\n",
    "\n",
    "snrs = [25, 15, 5]\n",
    "noisy_signals = [add_noise(clean_signal, snr) for snr in snrs]"
   ]
  },
  {
   "cell_type": "code",
   "execution_count": null,
   "metadata": {},
   "outputs": [],
   "source": [
    "# Plotting\n",
    "plt.figure(figsize=(12, 8))\n",
    "plt.subplot(2, 2, 1)\n",
    "plt.plot(t * 1e6, clean_signal)\n",
    "plt.title(\"Clean Signal\")\n",
    "plt.xlabel(\"Time (μs)\")\n",
    "plt.xticks(np.linspace(0, duration, 5) * 1e6)\n",
    "\n",
    "for i, snr in enumerate(snrs):\n",
    "    plt.subplot(2, 2, i+2)\n",
    "    plt.plot(t * 1e6, noisy_signals[i])\n",
    "    plt.title(f\"Noisy Signal (SNR = {snr} dB)\")\n",
    "    plt.xlabel(\"Time (μs)\")\n",
    "\n",
    "plt.tight_layout()\n",
    "plt.show()\n",
    "\n"
   ]
  },
  {
   "cell_type": "code",
   "execution_count": null,
   "metadata": {},
   "outputs": [],
   "source": [
    "denoised_wavelet = [wavelet_soft_threshold_denoise(signal, wavelet='db4', mode='soft') for signal in noisy_signals]"
   ]
  },
  {
   "cell_type": "code",
   "execution_count": null,
   "metadata": {},
   "outputs": [],
   "source": [
    "denoised_gst_svd = [gst_svd_denoise(signal, fs) for signal in noisy_signals]"
   ]
  },
  {
   "cell_type": "code",
   "execution_count": null,
   "metadata": {},
   "outputs": [],
   "source": [
    "# Plot denoised signals\n",
    "plt.figure(figsize=(12, 8))\n",
    "plt.subplot(2, 2, 1)\n",
    "plt.plot(t * 1e6, clean_signal)\n",
    "plt.title(\"Clean Signal\")\n",
    "plt.xlabel(\"Time (μs)\")\n",
    "plt.xticks(np.linspace(0, duration, 5) * 1e6)\n",
    "plt.legend(['Clean Signal'])\n",
    "for i, snr in enumerate(snrs):\n",
    "    plt.subplot(2, 2, i+2)\n",
    "    plt.plot(t * 1e6, denoised_wavelet[i], label='Wavelet Denoising', color='tab:orange', alpha=0.5)\n",
    "    plt.plot(t * 1e6, denoised_gst_svd[i], label='GST + SVD Denoising', color='tab:green', alpha=0.5)\n",
    "    plt.title(f\"Denoised Signal (SNR = {snr} dB)\")\n",
    "    plt.xlabel(\"Time (μs)\")\n",
    "    plt.legend()\n",
    "plt.tight_layout()\n",
    "plt.show()"
   ]
  },
  {
   "cell_type": "code",
   "execution_count": null,
   "metadata": {},
   "outputs": [],
   "source": [
    "# Compute error metrics\n",
    "def compute_metrics(clean, denoised):\n",
    "    mse = np.mean((clean - denoised) ** 2)\n",
    "    rmse = np.sqrt(mse)\n",
    "    snr = 10 * np.log10(np.var(clean) / mse)\n",
    "    return mse, rmse, snr\n",
    "metrics_wavelet = [compute_metrics(clean_signal, denoised) for denoised in denoised_wavelet]\n",
    "metrics_gst_svd = [compute_metrics(clean_signal, denoised) for denoised in denoised_gst_svd]"
   ]
  },
  {
   "cell_type": "code",
   "execution_count": null,
   "metadata": {},
   "outputs": [],
   "source": [
    "# plot metrics\n",
    "plt.figure(figsize=(12, 6))\n",
    "plt.subplot(1, 2, 1)\n",
    "plt.bar([f'SNR={snr} dB' for snr in snrs], [m[0] for m in metrics_wavelet], label='Wavelet Denoising', alpha=0.7)\n",
    "plt.bar([f'SNR={snr} dB' for snr in snrs], [m[0] for m in metrics_gst_svd], label='GST + SVD Denoising', alpha=0.7, color='tab:green', bottom=[m[0] for m in metrics_wavelet])\n",
    "plt.title(\"MSE of Denoised Signals\")\n",
    "plt.xlabel(\"SNR\")\n",
    "plt.ylabel(\"MSE\")\n",
    "plt.legend()\n",
    "plt.subplot(1, 2, 2)\n",
    "plt.bar([f'SNR={snr} dB' for snr in snrs], [m[1] for m in metrics_wavelet], label='Wavelet Denoising', alpha=0.7)\n",
    "plt.bar([f'SNR={snr} dB' for snr in snrs], [m[1] for m in metrics_gst_svd], label='GST + SVD Denoising', alpha=0.7, color='tab:green', bottom=[m[1] for m in metrics_wavelet])\n",
    "plt.title(\"RMSE of Denoised Signals\")\n",
    "plt.xlabel(\"SNR\")\n",
    "plt.ylabel(\"RMSE\")\n",
    "plt.legend()\n",
    "plt.tight_layout()\n",
    "plt.show()"
   ]
  },
  {
   "cell_type": "markdown",
   "metadata": {},
   "source": [
    "Hacemos escaneo 2D de la oblea"
   ]
  },
  {
   "cell_type": "code",
   "execution_count": null,
   "metadata": {},
   "outputs": [],
   "source": [
    "# Definimos el tamaño del escaneo\n",
    "Nx, Ny = 100, 100\n",
    "pixel_size = 0.1e-3  # 0.1 mm por píxel\n",
    "\n",
    "# Creamos un “mapa de profundidad” de la oblea\n",
    "depth_map = np.zeros((Nx, Ny))\n",
    "for i in range(Nx):\n",
    "    for j in range(Ny):\n",
    "        # Si estamos en una ranura (digamos j entre 30 y 50)\n",
    "        if i % 4 == 0:\n",
    "            depth_map[i, j] = 0.15e-3  # 150 μm\n",
    "        else:\n",
    "            depth_map[i, j] = 0.5e-3   # resto de la oblea\n"
   ]
  },
  {
   "cell_type": "code",
   "execution_count": null,
   "metadata": {},
   "outputs": [],
   "source": [
    "cscan = np.zeros((Nx, Ny))\n",
    "\n",
    "for i in range(Nx):\n",
    "    for j in range(Ny):\n",
    "        # Ajustamos tiempo de llegada según la profundidad local\n",
    "        local_tau = depth_map[i, j] / 1500  # v ~1500 m/s\n",
    "        params = [\n",
    "            {**echo_params[0], 'tau': local_tau},\n",
    "            {**echo_params[1], 'tau': local_tau + 0.2e-6}\n",
    "        ]\n",
    "        # Generamos la señal limpia\n",
    "        clean = sum(generate_echo(t, **p) for p in params)\n",
    "        # Añadimos ruido (ej. SNR 10 dB)\n",
    "        noisy = add_noise(clean, snr_db=120) # Por ahora, SNR muy alto\n",
    "        # TODO: Implementar el procesamiento de la señal (sacarle el ruido)\n",
    "\n",
    "        # 1) Extraemos la envolvente con Hilbert\n",
    "        env = np.abs(hilbert(noisy))\n",
    "        # 2) Tomamos el valor pico de la envolvente\n",
    "        cscan[i, j] = np.max(env)"
   ]
  },
  {
   "cell_type": "code",
   "execution_count": null,
   "metadata": {},
   "outputs": [],
   "source": [
    "\n",
    "# Para visualizar en escala real\n",
    "x = np.arange(Nx) * pixel_size * 1e3  # en mm\n",
    "y = np.arange(Ny) * pixel_size * 1e3  # en mm\n",
    "\n",
    "plt.figure(figsize=(6,5))\n",
    "plt.imshow(cscan.T, \n",
    "           extent=[x.min(), x.max(), y.min(), y.max()],\n",
    "           origin='lower')\n",
    "plt.xlabel('Posición X (mm)')\n",
    "plt.ylabel('Posición Y (mm)')\n",
    "plt.title('C-scan (amplitud pico de la envolvente)')\n",
    "plt.colorbar(label='Amplitud')\n",
    "plt.tight_layout()\n",
    "plt.show()"
   ]
  },
  {
   "cell_type": "markdown",
   "metadata": {},
   "source": [
    "Hacer script para dada una imagen, generar las señales con sus ruidos"
   ]
  }
 ],
 "metadata": {
  "kernelspec": {
   "display_name": ".venv",
   "language": "python",
   "name": "python3"
  },
  "language_info": {
   "codemirror_mode": {
    "name": "ipython",
    "version": 3
   },
   "file_extension": ".py",
   "mimetype": "text/x-python",
   "name": "python",
   "nbconvert_exporter": "python",
   "pygments_lexer": "ipython3",
   "version": "3.12.8"
  }
 },
 "nbformat": 4,
 "nbformat_minor": 2
}
